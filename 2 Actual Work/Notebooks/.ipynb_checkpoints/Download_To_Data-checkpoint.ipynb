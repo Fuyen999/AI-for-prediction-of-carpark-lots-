{
 "cells": [
  {
   "cell_type": "markdown",
   "id": "accessory-paintball",
   "metadata": {},
   "source": [
    "### This code downloads the data from google sheets to local device\n",
    "The data is stored in a local folder ./Data.\n",
    "\n",
    "The code checks if the ./Data folder is updated with the latest data from the most recent date, then download all missing data until the most recent date."
   ]
  },
  {
   "cell_type": "code",
   "execution_count": 1,
   "id": "irish-circular",
   "metadata": {},
   "outputs": [],
   "source": [
    "#download data stored in google sheets to local device.\n",
    "#all spreadsheet keys stored at https://docs.google.com/spreadsheets/d/1bms8J3Hiv_F3Mycsr14gwVZiJi1-ngLj0fNhdRkIAwQ/edit#gid=0\n",
    "def download_from_google_sheets():\n",
    "    # Import libraries\n",
    "    import pandas as pd\n",
    "    import os\n",
    "    import gspread\n",
    "    from oauth2client.service_account import ServiceAccountCredentials\n",
    "\n",
    "    # Credential stuff\n",
    "    scope = [\"https://spreadsheets.google.com/feeds\",\n",
    "            \"https://www.googleapis.com/auth/drive\"]\n",
    "    credentials = ServiceAccountCredentials.from_json_keyfile_name(\"./creds.json\", scope)\n",
    "    gc = gspread.authorize(credentials)\n",
    "\n",
    "    ID_of_spreadsheet_keys = \"1bms8J3Hiv_F3Mycsr14gwVZiJi1-ngLj0fNhdRkIAwQ\"\n",
    "    ID_of_one_set_data = \"1J6c50eUbTeOLbMQ88dTpB5lV_fEg2l9Ke2rdhVGW9Mw\"\n",
    "    worksheet_name = 'Sheet1'\n",
    "\n",
    "    #open sheet that stores all spreadsheet keys\n",
    "    sheet = gc.open_by_key(ID_of_spreadsheet_keys)\n",
    "    worksheet = sheet.worksheet(worksheet_name)\n",
    "    spreadsheet_keys = {}\n",
    "    dates_raw = worksheet.col_values(1)\n",
    "    IDs = worksheet.col_values(2)\n",
    "    for i in range(len(IDs)):\n",
    "        spreadsheet_keys[(int(dates_raw[i].split(\"/\")[0]), int(dates_raw[i].split(\"/\")[1]))] = IDs[i]\n",
    "\n",
    "    #check existing data in ./Data/\n",
    "    existing_data = os.listdir(\"./Data/\")\n",
    "    existing_dates = [(int(i.split(\"_\")[0]), int(i.split(\"_\")[1])) for i in existing_data]\n",
    "    for date in spreadsheet_keys.keys():\n",
    "        if date not in existing_dates:\n",
    "            #open sheet, select worksheet\n",
    "            sheet = gc.open_by_key(spreadsheet_keys[date])\n",
    "            worksheet = sheet.worksheet(worksheet_name)\n",
    "\n",
    "            #download values into a dataframe\n",
    "            df = pd.DataFrame(worksheet.get_all_values())\n",
    "\n",
    "            #for data before 26/3/2021: only have 4 columns.\n",
    "            #assume that \"C\" lotType carpark always have more available slots than other types of carpark. Remove duplicated data with same carpark ID.\n",
    "            if (len(df.columns) == 4):\n",
    "                df.columns = [\"Time\", \"Date\", \"CarParkID\",\"AvailableLots\"]\n",
    "                df = df.sort_values(by=[\"CarParkID\", \"AvailableLots\"])\n",
    "                df = df.drop_duplicates(subset=[\"CarParkID\", \"Time\"], keep=\"last\")\n",
    "                \n",
    "                #open sheet that stores one set of data (without time, date and availableLots)\n",
    "                sheet = gc.open_by_key(ID_of_one_set_data)\n",
    "                worksheet = sheet.worksheet(worksheet_name)\n",
    "                one_set_data = pd.DataFrame(worksheet.get_all_values())\n",
    "                one_set_data.columns = [\"CarParkID\",\"Area\",\"Development\", \"Location\", \"LotType\", \"Agency\"]\n",
    "                one_set_data = pd.DataFrame(one_set_data[one_set_data[\"LotType\"] == \"C\"])\n",
    "                \n",
    "                df = df.merge(one_set_data, on=\"CarParkID\")\n",
    "                \n",
    "            #for data since 26/3/2021\n",
    "            #leave only \"C\" LotType carpark\n",
    "            elif (len(df.columns) == 9):\n",
    "                df.columns = [\"Time\", \"Date\", \"CarParkID\", \"Area\",\"Development\", \"Location\", \"AvailableLots\", \"LotType\", \"Agency\"]\n",
    "                df = pd.DataFrame(df[df[\"LotType\"] == \"C\"])\n",
    "\n",
    "            #export as csv\n",
    "            filename = os.path.join(\"./Data/\", ((sheet.title+\".csv\").replace('/','_')))\n",
    "            df.to_csv(filename, index=False)\n",
    "            \n",
    "            print((sheet.title+\".csv\").replace('/','_'), \"downloaded\")"
   ]
  },
  {
   "cell_type": "code",
   "execution_count": 2,
   "id": "driven-envelope",
   "metadata": {},
   "outputs": [
    {
     "name": "stdout",
     "output_type": "stream",
     "text": [
      "9_4_2021_carpark_availability.csv downloaded\n",
      "10_4_2021_carpark_availability.csv downloaded\n",
      "11_4_2021_carpark_availability.csv downloaded\n",
      "12_4_2021_carpark_availability.csv downloaded\n",
      "13_4_2021_carpark_availability.csv downloaded\n"
     ]
    }
   ],
   "source": [
    "download_from_google_sheets()"
   ]
  }
 ],
 "metadata": {
  "kernelspec": {
   "display_name": "Python 3",
   "language": "python",
   "name": "python3"
  },
  "language_info": {
   "codemirror_mode": {
    "name": "ipython",
    "version": 3
   },
   "file_extension": ".py",
   "mimetype": "text/x-python",
   "name": "python",
   "nbconvert_exporter": "python",
   "pygments_lexer": "ipython3",
   "version": "3.8.5"
  }
 },
 "nbformat": 4,
 "nbformat_minor": 5
}
