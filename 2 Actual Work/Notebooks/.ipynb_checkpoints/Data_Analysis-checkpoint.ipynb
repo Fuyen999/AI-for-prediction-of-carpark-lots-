{
 "cells": [
  {
   "cell_type": "code",
   "execution_count": null,
   "id": "annual-width",
   "metadata": {},
   "outputs": [],
   "source": [
    "import pandas as pd\n",
    "import os\n",
    "from ipynb.fs.defs.Map import get_search_location, get_user_location\n",
    "\n",
    "day = input(\"Enter day: \")\n",
    "month = input(\"Enter month: \")\n",
    "filename = \"{}_{}_2021_carpark_availability.csv\".format(day, month)\n",
    "\n",
    "if filename not in os.listdir(\"./Data/\"):\n",
    "    print(\"Data not found.\")\n",
    "else:\n",
    "    path = os.path.join(\"./Data/\", filename)\n",
    "    df = pd.read_csv(path)\n",
    "    \n",
    "    while True:\n",
    "        location = input(\"Enter location: \")\n",
    "        search_result = get_search_location(location)\n",
    "        print()\n",
    "        print(\"Do you mean?\")\n",
    "        for i in range(len(search_result[\"address\"])):\n",
    "            print(str(i+1) + \". \" + search_result[\"address\"][i])\n",
    "            \n",
    "        print(str(len(search_result[\"address\"]) + \". Try again\" )\n",
    "        \n",
    "        choice = int(input(\"Your choice: \"))\n",
    "        if choice == len(search_result[\"address\"]:\n",
    "                         "
   ]
  }
 ],
 "metadata": {
  "kernelspec": {
   "display_name": "Python 3",
   "language": "python",
   "name": "python3"
  },
  "language_info": {
   "codemirror_mode": {
    "name": "ipython",
    "version": 3
   },
   "file_extension": ".py",
   "mimetype": "text/x-python",
   "name": "python",
   "nbconvert_exporter": "python",
   "pygments_lexer": "ipython3",
   "version": "3.8.5"
  }
 },
 "nbformat": 4,
 "nbformat_minor": 5
}
