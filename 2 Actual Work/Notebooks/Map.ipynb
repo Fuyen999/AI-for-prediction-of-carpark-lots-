{
 "cells": [
  {
   "cell_type": "code",
   "execution_count": 35,
   "id": "excessive-atlanta",
   "metadata": {},
   "outputs": [],
   "source": [
    "#returns a dataframe containing all info of all search results\n",
    "#to get latitude, use get_search_location()[\"lat\"][<index>]\n",
    "#to get longitude, use get_search_location()[\"lng\"][<index>]\n",
    "def get_search_location(search_term):\n",
    "    #This uses HERE api but seems not as good as geopy\n",
    "    \"\"\"import requests\n",
    "    import pandas as pd\n",
    "    \n",
    "    URL = \"https://geocode.search.hereapi.com/v1/geocode\"\n",
    "    #input(\"Enter the location here: \")\n",
    "    api_key = \"VhUOdWKYgNfrPSPdaYcBarB9OLFvT-rLAqW4wBc-Wy0\" # Acquired from developer.here.com\n",
    "    PARAMS = {'apikey':api_key,'q':str(search_term)} \n",
    "\n",
    "    # sending get request and saving the response as response object \n",
    "    response = requests.get(url = URL, params = PARAMS)\n",
    "    location = pd.DataFrame(response.json())\n",
    "    location = pd.DataFrame(location[\"items\"].apply(pd.Series))\n",
    "    \n",
    "    return location\"\"\"\n",
    "    \n",
    "    #This uses Nominatim api through geopy\n",
    "    from geopy.geocoders import Nominatim\n",
    "    import pandas as pd\n",
    "    \n",
    "    geolocator = Nominatim(user_agent=\"user-636@project-306014.iam.gserviceaccount.com\")\n",
    "    search = geolocator.geocode\n",
    "    \n",
    "    location = search(search_term + \", Singapore\", exactly_one = False) #exactly_one = False to return more than one result\n",
    "    location = pd.DataFrame(location)\n",
    "    location = pd.concat([location.iloc[:,:2], location[1].apply(pd.Series)], axis=1) #split lat and lng\n",
    "    location.columns = [\"address\",\"coordinates\", \"lat\", \"lng\"]\n",
    "    \n",
    "    return location"
   ]
  },
  {
   "cell_type": "code",
   "execution_count": 163,
   "id": "valuable-andorra",
   "metadata": {},
   "outputs": [],
   "source": [
    "#returns a dataframe containing all info of user's IP location\n",
    "#to get latitude, use get_user_location()[\"lat\"]\n",
    "#to get longotude, use get_user_location()[\"lng\"]\n",
    "def get_user_location():\n",
    "    import geocoder\n",
    "    import pandas as pd\n",
    "    \n",
    "    g=geocoder.ip(\"me\")\n",
    "    location = pd.json_normalize(g.json)\n",
    "    return location"
   ]
  },
  {
   "cell_type": "code",
   "execution_count": 42,
   "id": "accompanied-southwest",
   "metadata": {},
   "outputs": [
    {
     "data": {
      "text/html": [
       "<div>\n",
       "<style scoped>\n",
       "    .dataframe tbody tr th:only-of-type {\n",
       "        vertical-align: middle;\n",
       "    }\n",
       "\n",
       "    .dataframe tbody tr th {\n",
       "        vertical-align: top;\n",
       "    }\n",
       "\n",
       "    .dataframe thead th {\n",
       "        text-align: right;\n",
       "    }\n",
       "</style>\n",
       "<table border=\"1\" class=\"dataframe\">\n",
       "  <thead>\n",
       "    <tr style=\"text-align: right;\">\n",
       "      <th></th>\n",
       "      <th>address</th>\n",
       "      <th>coordinates</th>\n",
       "      <th>lat</th>\n",
       "      <th>lng</th>\n",
       "    </tr>\n",
       "  </thead>\n",
       "  <tbody>\n",
       "    <tr>\n",
       "      <th>0</th>\n",
       "      <td>Wild Wild Wet, Tampines Park Connector, Pasir ...</td>\n",
       "      <td>(1.3780454500000001, 103.9545492890241)</td>\n",
       "      <td>1.378045</td>\n",
       "      <td>103.954549</td>\n",
       "    </tr>\n",
       "  </tbody>\n",
       "</table>\n",
       "</div>"
      ],
      "text/plain": [
       "                                             address  \\\n",
       "0  Wild Wild Wet, Tampines Park Connector, Pasir ...   \n",
       "\n",
       "                               coordinates       lat         lng  \n",
       "0  (1.3780454500000001, 103.9545492890241)  1.378045  103.954549  "
      ]
     },
     "execution_count": 42,
     "metadata": {},
     "output_type": "execute_result"
    }
   ],
   "source": [
    "get_search_location(\"wild wild wet\")"
   ]
  },
  {
   "cell_type": "code",
   "execution_count": 182,
   "id": "accomplished-relief",
   "metadata": {},
   "outputs": [
    {
     "data": {
      "text/html": [
       "<div>\n",
       "<style scoped>\n",
       "    .dataframe tbody tr th:only-of-type {\n",
       "        vertical-align: middle;\n",
       "    }\n",
       "\n",
       "    .dataframe tbody tr th {\n",
       "        vertical-align: top;\n",
       "    }\n",
       "\n",
       "    .dataframe thead th {\n",
       "        text-align: right;\n",
       "    }\n",
       "</style>\n",
       "<table border=\"1\" class=\"dataframe\">\n",
       "  <thead>\n",
       "    <tr style=\"text-align: right;\">\n",
       "      <th></th>\n",
       "      <th>address</th>\n",
       "      <th>city</th>\n",
       "      <th>country</th>\n",
       "      <th>ip</th>\n",
       "      <th>lat</th>\n",
       "      <th>lng</th>\n",
       "      <th>ok</th>\n",
       "      <th>org</th>\n",
       "      <th>postal</th>\n",
       "      <th>state</th>\n",
       "      <th>status</th>\n",
       "      <th>raw.ip</th>\n",
       "      <th>raw.city</th>\n",
       "      <th>raw.region</th>\n",
       "      <th>raw.country</th>\n",
       "      <th>raw.loc</th>\n",
       "      <th>raw.org</th>\n",
       "      <th>raw.postal</th>\n",
       "      <th>raw.timezone</th>\n",
       "      <th>raw.readme</th>\n",
       "    </tr>\n",
       "  </thead>\n",
       "  <tbody>\n",
       "    <tr>\n",
       "      <th>0</th>\n",
       "      <td>Singapore, Singapore, SG</td>\n",
       "      <td>Singapore</td>\n",
       "      <td>SG</td>\n",
       "      <td>155.69.182.22</td>\n",
       "      <td>1.2897</td>\n",
       "      <td>103.8501</td>\n",
       "      <td>True</td>\n",
       "      <td>AS9419 Nanyang Technological University</td>\n",
       "      <td>048508</td>\n",
       "      <td>Singapore</td>\n",
       "      <td>OK</td>\n",
       "      <td>155.69.182.22</td>\n",
       "      <td>Singapore</td>\n",
       "      <td>Singapore</td>\n",
       "      <td>SG</td>\n",
       "      <td>1.2897,103.8501</td>\n",
       "      <td>AS9419 Nanyang Technological University</td>\n",
       "      <td>048508</td>\n",
       "      <td>Asia/Singapore</td>\n",
       "      <td>https://ipinfo.io/missingauth</td>\n",
       "    </tr>\n",
       "  </tbody>\n",
       "</table>\n",
       "</div>"
      ],
      "text/plain": [
       "                    address       city country             ip     lat  \\\n",
       "0  Singapore, Singapore, SG  Singapore      SG  155.69.182.22  1.2897   \n",
       "\n",
       "        lng    ok                                      org  postal      state  \\\n",
       "0  103.8501  True  AS9419 Nanyang Technological University  048508  Singapore   \n",
       "\n",
       "  status         raw.ip   raw.city raw.region raw.country          raw.loc  \\\n",
       "0     OK  155.69.182.22  Singapore  Singapore          SG  1.2897,103.8501   \n",
       "\n",
       "                                   raw.org raw.postal    raw.timezone  \\\n",
       "0  AS9419 Nanyang Technological University     048508  Asia/Singapore   \n",
       "\n",
       "                      raw.readme  \n",
       "0  https://ipinfo.io/missingauth  "
      ]
     },
     "execution_count": 182,
     "metadata": {},
     "output_type": "execute_result"
    }
   ],
   "source": [
    "get_user_location()"
   ]
  },
  {
   "cell_type": "code",
   "execution_count": 33,
   "id": "green-broad",
   "metadata": {},
   "outputs": [],
   "source": [
    "def carparks_nearby(df, coordinates, radius):\n",
    "    from geopy.distance import distance\n",
    "    import pandas as pd\n",
    "\n",
    "    df[\"Location\"] = df[\"Location\"].str.split(\" \", n=1, expand=False)\n",
    "    df = pd.concat([df[\"CarParkID\"], (pd.DataFrame(df[\"Location\"].to_list(), columns=['lat', 'lng']))], axis=1)\n",
    "    df['lat'] = pd.to_numeric(df['lat'], errors='coerce')\n",
    "    df['lng'] = pd.to_numeric(df['lng'], errors='coerce')\n",
    "\n",
    "    radius_in_degree = radius/111.2\n",
    "    df = pd.DataFrame(df[abs(df[\"lat\"]-coordinates[0]) < radius_in_degree])\n",
    "    df = pd.DataFrame(df[abs(df[\"lng\"]-coordinates[1]) < radius_in_degree])\n",
    "    return list(set(df[\"CarParkID\"]))"
   ]
  },
  {
   "cell_type": "code",
   "execution_count": null,
   "id": "inside-punch",
   "metadata": {},
   "outputs": [],
   "source": [
    "#Code to display map in jupyter notebook / python"
   ]
  }
 ],
 "metadata": {
  "kernelspec": {
   "display_name": "Python 3",
   "language": "python",
   "name": "python3"
  },
  "language_info": {
   "codemirror_mode": {
    "name": "ipython",
    "version": 3
   },
   "file_extension": ".py",
   "mimetype": "text/x-python",
   "name": "python",
   "nbconvert_exporter": "python",
   "pygments_lexer": "ipython3",
   "version": "3.8.5"
  }
 },
 "nbformat": 4,
 "nbformat_minor": 5
}
