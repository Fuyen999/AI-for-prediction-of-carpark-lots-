{
 "cells": [
  {
   "cell_type": "code",
   "execution_count": 1,
   "id": "raising-jurisdiction",
   "metadata": {},
   "outputs": [],
   "source": [
    "import pandas as pd"
   ]
  },
  {
   "cell_type": "code",
   "execution_count": 4,
   "id": "standing-scheduling",
   "metadata": {},
   "outputs": [
    {
     "data": {
      "text/html": [
       "<div>\n",
       "<style scoped>\n",
       "    .dataframe tbody tr th:only-of-type {\n",
       "        vertical-align: middle;\n",
       "    }\n",
       "\n",
       "    .dataframe tbody tr th {\n",
       "        vertical-align: top;\n",
       "    }\n",
       "\n",
       "    .dataframe thead th {\n",
       "        text-align: right;\n",
       "    }\n",
       "</style>\n",
       "<table border=\"1\" class=\"dataframe\">\n",
       "  <thead>\n",
       "    <tr style=\"text-align: right;\">\n",
       "      <th></th>\n",
       "      <th>adult</th>\n",
       "      <th>id</th>\n",
       "      <th>original_title</th>\n",
       "      <th>popularity</th>\n",
       "      <th>video</th>\n",
       "    </tr>\n",
       "  </thead>\n",
       "  <tbody>\n",
       "    <tr>\n",
       "      <th>0</th>\n",
       "      <td>False</td>\n",
       "      <td>3924</td>\n",
       "      <td>Blondie</td>\n",
       "      <td>3.356</td>\n",
       "      <td>False</td>\n",
       "    </tr>\n",
       "    <tr>\n",
       "      <th>1</th>\n",
       "      <td>False</td>\n",
       "      <td>6124</td>\n",
       "      <td>Der Mann ohne Namen</td>\n",
       "      <td>0.655</td>\n",
       "      <td>False</td>\n",
       "    </tr>\n",
       "    <tr>\n",
       "      <th>2</th>\n",
       "      <td>False</td>\n",
       "      <td>8773</td>\n",
       "      <td>L'amour à vingt ans</td>\n",
       "      <td>2.728</td>\n",
       "      <td>False</td>\n",
       "    </tr>\n",
       "    <tr>\n",
       "      <th>3</th>\n",
       "      <td>False</td>\n",
       "      <td>25449</td>\n",
       "      <td>New World Disorder 9: Never Enough</td>\n",
       "      <td>3.307</td>\n",
       "      <td>False</td>\n",
       "    </tr>\n",
       "    <tr>\n",
       "      <th>4</th>\n",
       "      <td>False</td>\n",
       "      <td>31975</td>\n",
       "      <td>Sesame Street: Elmo Loves You!</td>\n",
       "      <td>1.520</td>\n",
       "      <td>True</td>\n",
       "    </tr>\n",
       "  </tbody>\n",
       "</table>\n",
       "</div>"
      ],
      "text/plain": [
       "   adult     id                      original_title  popularity  video\n",
       "0  False   3924                             Blondie       3.356  False\n",
       "1  False   6124                 Der Mann ohne Namen       0.655  False\n",
       "2  False   8773                 L'amour à vingt ans       2.728  False\n",
       "3  False  25449  New World Disorder 9: Never Enough       3.307  False\n",
       "4  False  31975      Sesame Street: Elmo Loves You!       1.520   True"
      ]
     },
     "execution_count": 4,
     "metadata": {},
     "output_type": "execute_result"
    }
   ],
   "source": [
    "movie_id = pd.read_json(\"movie_ids_02_19_2021.json\", lines=True)\n",
    "movie_id.head()"
   ]
  },
  {
   "cell_type": "code",
   "execution_count": null,
   "id": "incredible-dynamics",
   "metadata": {},
   "outputs": [],
   "source": [
    "import json\n",
    "import urllib\n",
    "from urlparse import urlparse\n",
    "import httplib2 as http #External library\n",
    "if __name__==\"__main__\":\n",
    " #Authentication parameters\n",
    " headers = { 'AccountKey' : 'cgAjSJMuQwOkrFE0fmYVLg==',\n",
    " 'accept' : 'application/json'} #this is by default\n",
    "\n",
    " #API parameters\n",
    " uri = 'http://datamall2.mytransport.sg/' #Resource URL\n",
    " path = '/ltaodataservice/BusRoutes?'\n",
    " #Build query string & specify type of API call\n",
    " target = urlparse(uri + path)\n",
    " print target.geturl()\n",
    " method = 'GET'\n",
    " body = ''\n",
    "\n",
    " #Get handle to http\n",
    " h = http.Http()\n",
    " #Obtain results\n",
    " response, content = h.request(\n",
    " target.geturl(),\n",
    " method,\n",
    " body,\n",
    " headers)\n",
    " #Parse JSON to print\n",
    " jsonObj = json.loads(content)\n",
    " print json.dumps(jsonObj, sort_keys=True, indent=4)\n",
    " #Save result to file\n",
    " with open(\"bus_routes.json\",\"w\") as outfile:\n",
    " #Saving jsonObj[\"d\"]\n",
    " json.dump(jsonObj, outfile, sort_keys=True, indent=4,\n",
    "ensure_ascii=False)"
   ]
  }
 ],
 "metadata": {
  "kernelspec": {
   "display_name": "Python 3",
   "language": "python",
   "name": "python3"
  },
  "language_info": {
   "codemirror_mode": {
    "name": "ipython",
    "version": 3
   },
   "file_extension": ".py",
   "mimetype": "text/x-python",
   "name": "python",
   "nbconvert_exporter": "python",
   "pygments_lexer": "ipython3",
   "version": "3.8.5"
  }
 },
 "nbformat": 4,
 "nbformat_minor": 5
}
