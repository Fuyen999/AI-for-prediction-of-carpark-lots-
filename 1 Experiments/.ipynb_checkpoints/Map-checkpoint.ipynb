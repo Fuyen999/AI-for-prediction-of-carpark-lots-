{
 "cells": [
  {
   "cell_type": "code",
   "execution_count": 72,
   "id": "analyzed-penalty",
   "metadata": {},
   "outputs": [
    {
     "name": "stdout",
     "output_type": "stream",
     "text": [
      "[1.2897, 103.8501]\n"
     ]
    }
   ],
   "source": [
    "import geocoder\n",
    "g=geocoder.ip(\"me\")\n",
    "location = g.latlng\n",
    "print(location)"
   ]
  },
  {
   "cell_type": "code",
   "execution_count": 56,
   "id": "unusual-butter",
   "metadata": {},
   "outputs": [
    {
     "data": {
      "text/html": [
       "<div>\n",
       "<style scoped>\n",
       "    .dataframe tbody tr th:only-of-type {\n",
       "        vertical-align: middle;\n",
       "    }\n",
       "\n",
       "    .dataframe tbody tr th {\n",
       "        vertical-align: top;\n",
       "    }\n",
       "\n",
       "    .dataframe thead th {\n",
       "        text-align: right;\n",
       "    }\n",
       "</style>\n",
       "<table border=\"1\" class=\"dataframe\">\n",
       "  <thead>\n",
       "    <tr style=\"text-align: right;\">\n",
       "      <th></th>\n",
       "      <th>ID</th>\n",
       "      <th>lat</th>\n",
       "      <th>lng</th>\n",
       "    </tr>\n",
       "  </thead>\n",
       "  <tbody>\n",
       "    <tr>\n",
       "      <th>0</th>\n",
       "      <td>1</td>\n",
       "      <td>1.29375</td>\n",
       "      <td>103.85718</td>\n",
       "    </tr>\n",
       "    <tr>\n",
       "      <th>1</th>\n",
       "      <td>2</td>\n",
       "      <td>1.29115</td>\n",
       "      <td>103.85728</td>\n",
       "    </tr>\n",
       "    <tr>\n",
       "      <th>2</th>\n",
       "      <td>3</td>\n",
       "      <td>1.29382</td>\n",
       "      <td>103.85319</td>\n",
       "    </tr>\n",
       "    <tr>\n",
       "      <th>3</th>\n",
       "      <td>4</td>\n",
       "      <td>1.29011</td>\n",
       "      <td>103.85561</td>\n",
       "    </tr>\n",
       "    <tr>\n",
       "      <th>4</th>\n",
       "      <td>5</td>\n",
       "      <td>1.29251</td>\n",
       "      <td>103.86009</td>\n",
       "    </tr>\n",
       "  </tbody>\n",
       "</table>\n",
       "</div>"
      ],
      "text/plain": [
       "  ID      lat        lng\n",
       "0  1  1.29375  103.85718\n",
       "1  2  1.29115  103.85728\n",
       "2  3  1.29382  103.85319\n",
       "3  4  1.29011  103.85561\n",
       "4  5  1.29251  103.86009"
      ]
     },
     "execution_count": 56,
     "metadata": {},
     "output_type": "execute_result"
    }
   ],
   "source": [
    "import pandas as pd\n",
    "import requests\n",
    "import json\n",
    "from datetime import datetime\n",
    "\n",
    "#GSheets Stuff\n",
    "import gspread\n",
    "from df2gspread import df2gspread as d2g\n",
    "from df2gspread import gspread2df as g2d\n",
    "from oauth2client.service_account import ServiceAccountCredentials\n",
    "\n",
    "#Credential stuff\n",
    "scope = [\"https://spreadsheets.google.com/feeds\",\n",
    "        \"https://www.googleapis.com/auth/drive\"]\n",
    "credentials = ServiceAccountCredentials.from_json_keyfile_name(\"./creds.json\", scope)\n",
    "gc = gspread.authorize(credentials)\n",
    "\n",
    "#Get location data from one set on LTA data\n",
    "spreadsheet_key = \"1J6c50eUbTeOLbMQ88dTpB5lV_fEg2l9Ke2rdhVGW9Mw\"\n",
    "wks_name = 'Sheet1'\n",
    "df = g2d.download(spreadsheet_key, wks_name, col_names=False, row_names=False, credentials=credentials, start_cell='A1')\n",
    "df.head()\n",
    "\n",
    "df[3] = df[3].str.split(\" \", n=1, expand=False)\n",
    "latlng = pd.DataFrame(df[3].to_list(), columns=['lat', 'lng'])\n",
    "latlng.insert(0, 'ID', df[0])\n",
    "latlng['lat'] = pd.to_numeric(latlng['lat'], errors='coerce')\n",
    "latlng['lng'] = pd.to_numeric(latlng['lng'], errors='coerce')\n",
    "\n",
    "latlng.head()"
   ]
  },
  {
   "cell_type": "code",
   "execution_count": 61,
   "id": "acute-broadway",
   "metadata": {},
   "outputs": [
    {
     "data": {
      "text/html": [
       "<div>\n",
       "<style scoped>\n",
       "    .dataframe tbody tr th:only-of-type {\n",
       "        vertical-align: middle;\n",
       "    }\n",
       "\n",
       "    .dataframe tbody tr th {\n",
       "        vertical-align: top;\n",
       "    }\n",
       "\n",
       "    .dataframe thead th {\n",
       "        text-align: right;\n",
       "    }\n",
       "</style>\n",
       "<table border=\"1\" class=\"dataframe\">\n",
       "  <thead>\n",
       "    <tr style=\"text-align: right;\">\n",
       "      <th></th>\n",
       "      <th>ID</th>\n",
       "      <th>lat</th>\n",
       "      <th>lng</th>\n",
       "    </tr>\n",
       "  </thead>\n",
       "  <tbody>\n",
       "    <tr>\n",
       "      <th>2</th>\n",
       "      <td>3</td>\n",
       "      <td>1.293820</td>\n",
       "      <td>103.853190</td>\n",
       "    </tr>\n",
       "    <tr>\n",
       "      <th>34</th>\n",
       "      <td>56</td>\n",
       "      <td>1.290270</td>\n",
       "      <td>103.851670</td>\n",
       "    </tr>\n",
       "    <tr>\n",
       "      <th>37</th>\n",
       "      <td>59</td>\n",
       "      <td>1.290678</td>\n",
       "      <td>103.846480</td>\n",
       "    </tr>\n",
       "    <tr>\n",
       "      <th>44</th>\n",
       "      <td>66</td>\n",
       "      <td>1.291100</td>\n",
       "      <td>103.850200</td>\n",
       "    </tr>\n",
       "    <tr>\n",
       "      <th>47</th>\n",
       "      <td>A0011</td>\n",
       "      <td>1.293926</td>\n",
       "      <td>103.848866</td>\n",
       "    </tr>\n",
       "  </tbody>\n",
       "</table>\n",
       "</div>"
      ],
      "text/plain": [
       "       ID       lat         lng\n",
       "2       3  1.293820  103.853190\n",
       "34     56  1.290270  103.851670\n",
       "37     59  1.290678  103.846480\n",
       "44     66  1.291100  103.850200\n",
       "47  A0011  1.293926  103.848866"
      ]
     },
     "execution_count": 61,
     "metadata": {},
     "output_type": "execute_result"
    }
   ],
   "source": [
    "radius = 0.005\n",
    "near_me = pd.DataFrame(latlng[abs(latlng['lat'] - location[0]) < radius])\n",
    "near_me = pd.DataFrame(near_me[abs(near_me['lng'] - location[1]) < radius])\n",
    "near_me.head()"
   ]
  },
  {
   "cell_type": "code",
   "execution_count": 62,
   "id": "local-arabic",
   "metadata": {},
   "outputs": [
    {
     "name": "stdout",
     "output_type": "stream",
     "text": [
      "<class 'pandas.core.frame.DataFrame'>\n",
      "Int64Index: 8 entries, 2 to 573\n",
      "Data columns (total 3 columns):\n",
      " #   Column  Non-Null Count  Dtype  \n",
      "---  ------  --------------  -----  \n",
      " 0   ID      8 non-null      object \n",
      " 1   lat     8 non-null      float64\n",
      " 2   lng     8 non-null      float64\n",
      "dtypes: float64(2), object(1)\n",
      "memory usage: 256.0+ bytes\n"
     ]
    }
   ],
   "source": [
    "near_me.info()"
   ]
  },
  {
   "cell_type": "code",
   "execution_count": 74,
   "id": "reduced-decade",
   "metadata": {},
   "outputs": [
    {
     "data": {
      "text/plain": [
       "['3', '56', '59', '66', 'A0011', 'C0133', 'H0024', 'HLM']"
      ]
     },
     "execution_count": 74,
     "metadata": {},
     "output_type": "execute_result"
    }
   ],
   "source": [
    "ID = list(near_me[\"ID\"])\n",
    "ID"
   ]
  },
  {
   "cell_type": "code",
   "execution_count": null,
   "id": "listed-formula",
   "metadata": {},
   "outputs": [],
   "source": []
  }
 ],
 "metadata": {
  "kernelspec": {
   "display_name": "Python 3",
   "language": "python",
   "name": "python3"
  },
  "language_info": {
   "codemirror_mode": {
    "name": "ipython",
    "version": 3
   },
   "file_extension": ".py",
   "mimetype": "text/x-python",
   "name": "python",
   "nbconvert_exporter": "python",
   "pygments_lexer": "ipython3",
   "version": "3.8.5"
  }
 },
 "nbformat": 4,
 "nbformat_minor": 5
}
