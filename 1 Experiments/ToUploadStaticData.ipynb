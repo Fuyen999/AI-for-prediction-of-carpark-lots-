{
 "cells": [
  {
   "cell_type": "code",
   "execution_count": 4,
   "id": "solved-consortium",
   "metadata": {},
   "outputs": [
    {
     "data": {
      "text/plain": [
       "<Worksheet 'Sheet1' id:0>"
      ]
     },
     "execution_count": 4,
     "metadata": {},
     "output_type": "execute_result"
    }
   ],
   "source": [
    "#Run this code every night to scrape data, leave it running for the whole day\n",
    "#Pandas, Json and formatting stuff\n",
    "import pandas as pd\n",
    "import requests\n",
    "import json\n",
    "from datetime import datetime\n",
    "\n",
    "#GSheets Stuff\n",
    "import gspread\n",
    "from df2gspread import df2gspread as d2g\n",
    "from df2gspread import gspread2df as g2d\n",
    "from oauth2client.service_account import ServiceAccountCredentials\n",
    "\n",
    "#Credential stuff\n",
    "scope = [\"https://spreadsheets.google.com/feeds\",\n",
    "        \"https://www.googleapis.com/auth/drive\"]\n",
    "credentials = ServiceAccountCredentials.from_json_keyfile_name(\"./creds.json\", scope)\n",
    "gc = gspread.authorize(credentials)\n",
    "\n",
    "spreadsheet_key = \"17Xnckj7DpLWzDgn1VcVmyt3s4v1by4TScX5ROOcSwtk\"\n",
    "wks_name = \"Sheet1\"\n",
    "\n",
    "df = pd.read_csv(\"hdb-carpark-information.csv\")\n",
    "d2g.upload(df, spreadsheet_key, wks_name, col_names=False, row_names=False, clean=False, credentials=credentials, start_cell='A1')"
   ]
  },
  {
   "cell_type": "code",
   "execution_count": null,
   "id": "synthetic-nevada",
   "metadata": {},
   "outputs": [],
   "source": []
  }
 ],
 "metadata": {
  "kernelspec": {
   "display_name": "Python 3",
   "language": "python",
   "name": "python3"
  },
  "language_info": {
   "codemirror_mode": {
    "name": "ipython",
    "version": 3
   },
   "file_extension": ".py",
   "mimetype": "text/x-python",
   "name": "python",
   "nbconvert_exporter": "python",
   "pygments_lexer": "ipython3",
   "version": "3.8.5"
  }
 },
 "nbformat": 4,
 "nbformat_minor": 5
}
