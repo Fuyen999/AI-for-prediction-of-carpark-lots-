{
 "cells": [
  {
   "cell_type": "code",
   "execution_count": 78,
   "id": "analyzed-penalty",
   "metadata": {},
   "outputs": [
    {
     "name": "stdout",
     "output_type": "stream",
     "text": [
      "[1.2897, 103.8501]\n"
     ]
    }
   ],
   "source": [
    "import geocoder\n",
    "g=geocoder.ip(\"me\")\n",
    "location = g.latlng\n",
    "print(location)"
   ]
  },
  {
   "cell_type": "code",
   "execution_count": 80,
   "id": "unusual-butter",
   "metadata": {},
   "outputs": [
    {
     "data": {
      "text/html": [
       "<div>\n",
       "<style scoped>\n",
       "    .dataframe tbody tr th:only-of-type {\n",
       "        vertical-align: middle;\n",
       "    }\n",
       "\n",
       "    .dataframe tbody tr th {\n",
       "        vertical-align: top;\n",
       "    }\n",
       "\n",
       "    .dataframe thead th {\n",
       "        text-align: right;\n",
       "    }\n",
       "</style>\n",
       "<table border=\"1\" class=\"dataframe\">\n",
       "  <thead>\n",
       "    <tr style=\"text-align: right;\">\n",
       "      <th></th>\n",
       "      <th>ID</th>\n",
       "      <th>lat</th>\n",
       "      <th>lng</th>\n",
       "    </tr>\n",
       "  </thead>\n",
       "  <tbody>\n",
       "    <tr>\n",
       "      <th>0</th>\n",
       "      <td>1</td>\n",
       "      <td>1.29375</td>\n",
       "      <td>103.85718</td>\n",
       "    </tr>\n",
       "    <tr>\n",
       "      <th>1</th>\n",
       "      <td>2</td>\n",
       "      <td>1.29115</td>\n",
       "      <td>103.85728</td>\n",
       "    </tr>\n",
       "    <tr>\n",
       "      <th>2</th>\n",
       "      <td>4</td>\n",
       "      <td>1.29011</td>\n",
       "      <td>103.85561</td>\n",
       "    </tr>\n",
       "    <tr>\n",
       "      <th>3</th>\n",
       "      <td>5</td>\n",
       "      <td>1.29251</td>\n",
       "      <td>103.86009</td>\n",
       "    </tr>\n",
       "    <tr>\n",
       "      <th>4</th>\n",
       "      <td>16</td>\n",
       "      <td>1.26421</td>\n",
       "      <td>103.82263</td>\n",
       "    </tr>\n",
       "  </tbody>\n",
       "</table>\n",
       "</div>"
      ],
      "text/plain": [
       "   ID      lat        lng\n",
       "0   1  1.29375  103.85718\n",
       "1   2  1.29115  103.85728\n",
       "2   4  1.29011  103.85561\n",
       "3   5  1.29251  103.86009\n",
       "4  16  1.26421  103.82263"
      ]
     },
     "execution_count": 80,
     "metadata": {},
     "output_type": "execute_result"
    }
   ],
   "source": [
    "import pandas as pd\n",
    "import requests\n",
    "import json\n",
    "from datetime import datetime\n",
    "\n",
    "#GSheets Stuff\n",
    "import gspread\n",
    "from df2gspread import df2gspread as d2g\n",
    "from df2gspread import gspread2df as g2d\n",
    "from oauth2client.service_account import ServiceAccountCredentials\n",
    "\n",
    "#Credential stuff\n",
    "scope = [\"https://spreadsheets.google.com/feeds\",\n",
    "        \"https://www.googleapis.com/auth/drive\"]\n",
    "credentials = ServiceAccountCredentials.from_json_keyfile_name(\"./creds.json\", scope)\n",
    "gc = gspread.authorize(credentials)\n",
    "\n",
    "#Get location data from one set on LTA data\n",
    "spreadsheet_key = \"1ea_-CTzoQZXzrOM6ZW-vdXwYWuaSg5t6mKiZRtmWwX0\"\n",
    "wks_name = 'Sheet1'\n",
    "df = g2d.download(spreadsheet_key, wks_name, col_names=False, row_names=False, credentials=credentials, start_cell='A1')\n",
    "df.head()\n",
    "\n",
    "df[5] = df[5].str.split(\" \", n=1, expand=False)\n",
    "latlng = pd.DataFrame(df[5].to_list(), columns=['lat', 'lng'])\n",
    "latlng.insert(0, 'ID', df[2])\n",
    "latlng['lat'] = pd.to_numeric(latlng['lat'], errors='coerce')\n",
    "latlng['lng'] = pd.to_numeric(latlng['lng'], errors='coerce')\n",
    "\n",
    "latlng.head()"
   ]
  },
  {
   "cell_type": "code",
   "execution_count": 84,
   "id": "acute-broadway",
   "metadata": {},
   "outputs": [
    {
     "data": {
      "text/html": [
       "<div>\n",
       "<style scoped>\n",
       "    .dataframe tbody tr th:only-of-type {\n",
       "        vertical-align: middle;\n",
       "    }\n",
       "\n",
       "    .dataframe tbody tr th {\n",
       "        vertical-align: top;\n",
       "    }\n",
       "\n",
       "    .dataframe thead th {\n",
       "        text-align: right;\n",
       "    }\n",
       "</style>\n",
       "<table border=\"1\" class=\"dataframe\">\n",
       "  <thead>\n",
       "    <tr style=\"text-align: right;\">\n",
       "      <th></th>\n",
       "      <th>ID</th>\n",
       "      <th>lat</th>\n",
       "      <th>lng</th>\n",
       "    </tr>\n",
       "  </thead>\n",
       "  <tbody>\n",
       "    <tr>\n",
       "      <th>31</th>\n",
       "      <td>56</td>\n",
       "      <td>1.290270</td>\n",
       "      <td>103.851670</td>\n",
       "    </tr>\n",
       "    <tr>\n",
       "      <th>34</th>\n",
       "      <td>59</td>\n",
       "      <td>1.290678</td>\n",
       "      <td>103.846480</td>\n",
       "    </tr>\n",
       "    <tr>\n",
       "      <th>41</th>\n",
       "      <td>66</td>\n",
       "      <td>1.291100</td>\n",
       "      <td>103.850200</td>\n",
       "    </tr>\n",
       "    <tr>\n",
       "      <th>44</th>\n",
       "      <td>A0011</td>\n",
       "      <td>1.293926</td>\n",
       "      <td>103.848866</td>\n",
       "    </tr>\n",
       "    <tr>\n",
       "      <th>55</th>\n",
       "      <td>C0133</td>\n",
       "      <td>1.288266</td>\n",
       "      <td>103.848183</td>\n",
       "    </tr>\n",
       "    <tr>\n",
       "      <th>...</th>\n",
       "      <td>...</td>\n",
       "      <td>...</td>\n",
       "      <td>...</td>\n",
       "    </tr>\n",
       "    <tr>\n",
       "      <th>240631</th>\n",
       "      <td>66</td>\n",
       "      <td>1.291100</td>\n",
       "      <td>103.850200</td>\n",
       "    </tr>\n",
       "    <tr>\n",
       "      <th>240634</th>\n",
       "      <td>A0011</td>\n",
       "      <td>1.293926</td>\n",
       "      <td>103.848866</td>\n",
       "    </tr>\n",
       "    <tr>\n",
       "      <th>240645</th>\n",
       "      <td>C0133</td>\n",
       "      <td>1.288266</td>\n",
       "      <td>103.848183</td>\n",
       "    </tr>\n",
       "    <tr>\n",
       "      <th>240664</th>\n",
       "      <td>H0024</td>\n",
       "      <td>1.286401</td>\n",
       "      <td>103.847327</td>\n",
       "    </tr>\n",
       "    <tr>\n",
       "      <th>241160</th>\n",
       "      <td>HLM</td>\n",
       "      <td>1.284852</td>\n",
       "      <td>103.845519</td>\n",
       "    </tr>\n",
       "  </tbody>\n",
       "</table>\n",
       "<p>734 rows × 3 columns</p>\n",
       "</div>"
      ],
      "text/plain": [
       "           ID       lat         lng\n",
       "31         56  1.290270  103.851670\n",
       "34         59  1.290678  103.846480\n",
       "41         66  1.291100  103.850200\n",
       "44      A0011  1.293926  103.848866\n",
       "55      C0133  1.288266  103.848183\n",
       "...       ...       ...         ...\n",
       "240631     66  1.291100  103.850200\n",
       "240634  A0011  1.293926  103.848866\n",
       "240645  C0133  1.288266  103.848183\n",
       "240664  H0024  1.286401  103.847327\n",
       "241160    HLM  1.284852  103.845519\n",
       "\n",
       "[734 rows x 3 columns]"
      ]
     },
     "execution_count": 84,
     "metadata": {},
     "output_type": "execute_result"
    }
   ],
   "source": [
    "radius = 0.005\n",
    "near_me = pd.DataFrame(latlng[abs(latlng['lat'] - location[0]) < radius])\n",
    "near_me = pd.DataFrame(near_me[abs(near_me['lng'] - location[1]) < radius])\n",
    "near_me"
   ]
  },
  {
   "cell_type": "code",
   "execution_count": 87,
   "id": "local-arabic",
   "metadata": {},
   "outputs": [
    {
     "name": "stdout",
     "output_type": "stream",
     "text": [
      "<class 'pandas.core.frame.DataFrame'>\n",
      "Int64Index: 734 entries, 31 to 241160\n",
      "Data columns (total 3 columns):\n",
      " #   Column  Non-Null Count  Dtype  \n",
      "---  ------  --------------  -----  \n",
      " 0   ID      734 non-null    object \n",
      " 1   lat     734 non-null    float64\n",
      " 2   lng     734 non-null    float64\n",
      "dtypes: float64(2), object(1)\n",
      "memory usage: 22.9+ KB\n"
     ]
    }
   ],
   "source": [
    "near_me.info()"
   ]
  },
  {
   "cell_type": "code",
   "execution_count": 88,
   "id": "reduced-decade",
   "metadata": {},
   "outputs": [
    {
     "data": {
      "text/plain": [
       "['3', '66', 'HLM', 'H0024', 'A0011', '56', 'C0133', '59']"
      ]
     },
     "execution_count": 88,
     "metadata": {},
     "output_type": "execute_result"
    }
   ],
   "source": [
    "ID = list(set(near_me[\"ID\"]))\n",
    "ID"
   ]
  },
  {
   "cell_type": "code",
   "execution_count": null,
   "id": "listed-formula",
   "metadata": {},
   "outputs": [],
   "source": []
  }
 ],
 "metadata": {
  "kernelspec": {
   "display_name": "Python 3",
   "language": "python",
   "name": "python3"
  },
  "language_info": {
   "codemirror_mode": {
    "name": "ipython",
    "version": 3
   },
   "file_extension": ".py",
   "mimetype": "text/x-python",
   "name": "python",
   "nbconvert_exporter": "python",
   "pygments_lexer": "ipython3",
   "version": "3.8.5"
  }
 },
 "nbformat": 4,
 "nbformat_minor": 5
}
